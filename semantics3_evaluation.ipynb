{
 "cells": [
  {
   "cell_type": "code",
   "execution_count": 1,
   "metadata": {},
   "outputs": [],
   "source": [
    "import pandas as pd\n",
    "import glob\n"
   ]
  },
  {
   "cell_type": "code",
   "execution_count": 63,
   "metadata": {},
   "outputs": [],
   "source": [
    "# Quick and Dirty\n",
    "arr = []\n",
    "for filename in glob.iglob('/Users/kaicheung/Downloads/Copy of Mercari Annotated Results*.csv'):\n",
    "    total = 1000\n",
    "    cat = filename.split('-')[3].replace('.csv',\"\").replace(\" \",\"\")\n",
    "    data = pd.read_csv(filename)\n",
    "    precision = (float(data[data.cbrand_match_0 == True].brand.count())/data[data.cbrand_match_0.notnull()].brand.count()) * 100\n",
    "    recall = (float(data[data.cbrand_match_0 == True].brand.count())/data[data.cbrand_match_0.notnull()].cbrand_match_0.count()) *100\n",
    "    arr.append((cat,precision,recall))"
   ]
  },
  {
   "cell_type": "code",
   "execution_count": 64,
   "metadata": {},
   "outputs": [
    {
     "data": {
      "text/html": [
       "<div>\n",
       "<style scoped>\n",
       "    .dataframe tbody tr th:only-of-type {\n",
       "        vertical-align: middle;\n",
       "    }\n",
       "\n",
       "    .dataframe tbody tr th {\n",
       "        vertical-align: top;\n",
       "    }\n",
       "\n",
       "    .dataframe thead th {\n",
       "        text-align: right;\n",
       "    }\n",
       "</style>\n",
       "<table border=\"1\" class=\"dataframe\">\n",
       "  <thead>\n",
       "    <tr style=\"text-align: right;\">\n",
       "      <th></th>\n",
       "      <th>category</th>\n",
       "      <th>precision</th>\n",
       "      <th>recall</th>\n",
       "    </tr>\n",
       "  </thead>\n",
       "  <tbody>\n",
       "    <tr>\n",
       "      <th>0</th>\n",
       "      <td>beauty</td>\n",
       "      <td>35.438596</td>\n",
       "      <td>12.212817</td>\n",
       "    </tr>\n",
       "    <tr>\n",
       "      <th>1</th>\n",
       "      <td>handmade</td>\n",
       "      <td>0.000000</td>\n",
       "      <td>0.000000</td>\n",
       "    </tr>\n",
       "    <tr>\n",
       "      <th>2</th>\n",
       "      <td>home</td>\n",
       "      <td>39.743590</td>\n",
       "      <td>14.993954</td>\n",
       "    </tr>\n",
       "    <tr>\n",
       "      <th>3</th>\n",
       "      <td>kids</td>\n",
       "      <td>12.623762</td>\n",
       "      <td>6.174334</td>\n",
       "    </tr>\n",
       "    <tr>\n",
       "      <th>4</th>\n",
       "      <td>men</td>\n",
       "      <td>4.788214</td>\n",
       "      <td>3.147700</td>\n",
       "    </tr>\n",
       "    <tr>\n",
       "      <th>5</th>\n",
       "      <td>other</td>\n",
       "      <td>43.373494</td>\n",
       "      <td>4.358354</td>\n",
       "    </tr>\n",
       "    <tr>\n",
       "      <th>6</th>\n",
       "      <td>sports</td>\n",
       "      <td>30.222222</td>\n",
       "      <td>8.232446</td>\n",
       "    </tr>\n",
       "    <tr>\n",
       "      <th>7</th>\n",
       "      <td>tech</td>\n",
       "      <td>31.132075</td>\n",
       "      <td>7.990315</td>\n",
       "    </tr>\n",
       "    <tr>\n",
       "      <th>8</th>\n",
       "      <td>vintage</td>\n",
       "      <td>24.842767</td>\n",
       "      <td>9.564165</td>\n",
       "    </tr>\n",
       "    <tr>\n",
       "      <th>9</th>\n",
       "      <td>women</td>\n",
       "      <td>6.300813</td>\n",
       "      <td>3.743961</td>\n",
       "    </tr>\n",
       "  </tbody>\n",
       "</table>\n",
       "</div>"
      ],
      "text/plain": [
       "   category  precision     recall\n",
       "0    beauty  35.438596  12.212817\n",
       "1  handmade   0.000000   0.000000\n",
       "2      home  39.743590  14.993954\n",
       "3      kids  12.623762   6.174334\n",
       "4       men   4.788214   3.147700\n",
       "5     other  43.373494   4.358354\n",
       "6    sports  30.222222   8.232446\n",
       "7      tech  31.132075   7.990315\n",
       "8   vintage  24.842767   9.564165\n",
       "9     women   6.300813   3.743961"
      ]
     },
     "execution_count": 64,
     "metadata": {},
     "output_type": "execute_result"
    }
   ],
   "source": [
    "pd.DataFrame(arr,columns=('category','precision','recall'))"
   ]
  },
  {
   "cell_type": "code",
   "execution_count": null,
   "metadata": {},
   "outputs": [],
   "source": [
    "# Next step is to sample the ones that are False and see if its our data error\n"
   ]
  }
 ],
 "metadata": {
  "kernelspec": {
   "display_name": "Python 2",
   "language": "python",
   "name": "python2"
  },
  "language_info": {
   "codemirror_mode": {
    "name": "ipython",
    "version": 2
   },
   "file_extension": ".py",
   "mimetype": "text/x-python",
   "name": "python",
   "nbconvert_exporter": "python",
   "pygments_lexer": "ipython2",
   "version": "2.7.14"
  }
 },
 "nbformat": 4,
 "nbformat_minor": 2
}
